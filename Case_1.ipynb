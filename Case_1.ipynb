{
 "cells": [
  {
   "cell_type": "markdown",
   "id": "5dbd26c3-0961-4c0c-9dd2-e6d1342c399e",
   "metadata": {},
   "source": [
    "I got all the addresses with balance less than 10k and got the owner through event logs and put it in all_owner_info_after_filter.pkl."
   ]
  },
  {
   "cell_type": "code",
   "execution_count": 1,
   "id": "ce0cbba4-cdd2-4032-9ebd-e6aaf346d050",
   "metadata": {},
   "outputs": [
    {
     "data": {
      "text/plain": [
       "8872"
      ]
     },
     "execution_count": 1,
     "metadata": {},
     "output_type": "execute_result"
    }
   ],
   "source": [
    "from func import get_wallets_tx_from_db\n",
    "import pickle\n",
    "\n",
    "with open('all_owner_info_after_filter.pkl', 'rb') as f:\n",
    "    all_owner_info = pickle.load(f)\n",
    "    \n",
    "len(all_owner_info)"
   ]
  },
  {
   "cell_type": "markdown",
   "id": "95908778-b64f-43e3-a914-56aa8295d785",
   "metadata": {},
   "source": [
    "When looking for duplicate owners, I found that 0xc55d35af6a5ff6299ef3fb8632bbac6cce17dc8b created 15 2/2 multi-signature wallets. But his primary addresses are all second signatories, and removed in July."
   ]
  },
  {
   "cell_type": "code",
   "execution_count": 2,
   "id": "67943145-b1d0-4e53-a6b9-902de759bc6e",
   "metadata": {},
   "outputs": [
    {
     "data": {
      "text/plain": [
       "[{'0x0856830115f8aee61b6b7e496778a48f1f7776f9': ['0x82c5ea5660d56456720be16ea33d8484f08c3838',\n",
       "   '0xc55d35af6a5ff6299ef3fb8632bbac6cce17dc8b']},\n",
       " {'0x677dd1b9554439cbe2fe6f05d3c503fda316ae87': ['0x06e2224d72dbc2764e3e9d217b03addae8d22006',\n",
       "   '0xc55d35af6a5ff6299ef3fb8632bbac6cce17dc8b']},\n",
       " {'0xb692edbe6b8abd3547be1b8a3e7e62082a86adac': ['0xbec1631ce7919960981e3874a69c773dca968530',\n",
       "   '0xc55d35af6a5ff6299ef3fb8632bbac6cce17dc8b']},\n",
       " {'0x9ca9b0d33d168cc2ad02e5fd264431cc0e9e7d20': ['0xc55d35af6a5ff6299ef3fb8632bbac6cce17dc8b',\n",
       "   '0x86ce032489383ec0564bad2ed868048f0b1030f2']},\n",
       " {'0x9dba698402b2b01315954452a0a763d1bdad31ea': ['0x91d6e70676b39a45d9d1198ab01319a810ce7618',\n",
       "   '0xc55d35af6a5ff6299ef3fb8632bbac6cce17dc8b']},\n",
       " {'0xd497ee5bbcb2133fb06252897fe20c8042ec7342': ['0xc5354aae4d5cd4492c965c688b616b2cd0c95337',\n",
       "   '0xc55d35af6a5ff6299ef3fb8632bbac6cce17dc8b']},\n",
       " {'0x57bccfd45e365a198dec868e8c22871c852e45a2': ['0x48c457867ddefe44737307367f651ac9c0792048',\n",
       "   '0xc55d35af6a5ff6299ef3fb8632bbac6cce17dc8b']},\n",
       " {'0xef8a7ad4b7371b2560b57f1fe8ead26ffe4b7773': ['0x29bed086b7582a84dd1f290a37e9ea75fe7e8125',\n",
       "   '0xc55d35af6a5ff6299ef3fb8632bbac6cce17dc8b']},\n",
       " {'0x2a59096c3bde55e37f54ce0416d0e5ec19040eb2': ['0x382a3c082c06543f4f59a88edd9a64eb41410996',\n",
       "   '0xc55d35af6a5ff6299ef3fb8632bbac6cce17dc8b']},\n",
       " {'0xa27627f074fb557e7c107e4bf943166d34186294': ['0x677cb288764ae02a112bac05fc34d747f9916580',\n",
       "   '0xc55d35af6a5ff6299ef3fb8632bbac6cce17dc8b']},\n",
       " {'0xe3c663ec0c975922c82badf01f1b8b10bd37333d': ['0x1ba17b274935ba2bee1a9c6999b122274a4ab520',\n",
       "   '0xc55d35af6a5ff6299ef3fb8632bbac6cce17dc8b']},\n",
       " {'0x5d7fe12ad924d027cd404273a13acfd571bccc0e': ['0x065d1087b64cae99db10858e58fa64c403781007',\n",
       "   '0xc55d35af6a5ff6299ef3fb8632bbac6cce17dc8b']},\n",
       " {'0x2d3c161b7fc1a5eaf785d9389a4494091179c035': ['0x5685d07153e3f446d267bf7bcb9e0c64a98c3567',\n",
       "   '0xc55d35af6a5ff6299ef3fb8632bbac6cce17dc8b']},\n",
       " {'0x5f13d26cee54cb84841328b399aa0b32e3716110': ['0x70a63c05932f74e5803427e9fe75570618bd1766',\n",
       "   '0xc55d35af6a5ff6299ef3fb8632bbac6cce17dc8b']},\n",
       " {'0x97232c8cc390ceeffa51753abe1c8c9e3c073b78': ['0x5235786742691445b2d6714e134ac8be7fc99781',\n",
       "   '0xc55d35af6a5ff6299ef3fb8632bbac6cce17dc8b']},\n",
       " {'0xd8c748611f2ee9a2927331873c7b423f818ce3a0': ['0xd8c02987d2133a4b99c45c1bbd6db8a3bc2a5717',\n",
       "   '0xc55d35af6a5ff6299ef3fb8632bbac6cce17dc8b']}]"
      ]
     },
     "execution_count": 2,
     "metadata": {},
     "output_type": "execute_result"
    }
   ],
   "source": [
    "filter_by_address = list(filter(lambda i: '0xc55d35af6a5ff6299ef3fb8632bbac6cce17dc8b' in list(i.values())[0], all_owner_info))\n",
    "filter_by_address"
   ]
  },
  {
   "cell_type": "markdown",
   "id": "fa0d964d-276c-4809-99c9-e83125407d32",
   "metadata": {},
   "source": [
    "![](./images/txs.png)"
   ]
  },
  {
   "cell_type": "markdown",
   "id": "6b9286e8-a7f2-4a85-95dd-6aac1e00fe5c",
   "metadata": {},
   "source": [
    "Except for the primary address he uses, all other addresses have similar feature."
   ]
  },
  {
   "cell_type": "code",
   "execution_count": 3,
   "id": "816ebc47-3b27-4680-a903-b4c5c6a1458a",
   "metadata": {},
   "outputs": [
    {
     "name": "stdout",
     "output_type": "stream",
     "text": [
      "main safe wallet: 0x9ca9b0d33d168cc2ad02e5fd264431cc0e9e7d20\n",
      "\n",
      "\n",
      "0x0856830115f8aee61b6b7e496778a48f1f7776f9\n",
      "0x677dd1b9554439cbe2fe6f05d3c503fda316ae87\n",
      "0xb692edbe6b8abd3547be1b8a3e7e62082a86adac\n",
      "0x9dba698402b2b01315954452a0a763d1bdad31ea\n",
      "0xd497ee5bbcb2133fb06252897fe20c8042ec7342\n",
      "0x57bccfd45e365a198dec868e8c22871c852e45a2\n",
      "0xef8a7ad4b7371b2560b57f1fe8ead26ffe4b7773\n",
      "0x2a59096c3bde55e37f54ce0416d0e5ec19040eb2\n",
      "0xa27627f074fb557e7c107e4bf943166d34186294\n",
      "0xe3c663ec0c975922c82badf01f1b8b10bd37333d\n",
      "0x5d7fe12ad924d027cd404273a13acfd571bccc0e\n",
      "0x2d3c161b7fc1a5eaf785d9389a4494091179c035\n",
      "0x5f13d26cee54cb84841328b399aa0b32e3716110\n",
      "0x97232c8cc390ceeffa51753abe1c8c9e3c073b78\n",
      "0xd8c748611f2ee9a2927331873c7b423f818ce3a0\n",
      "\n",
      "\n",
      "safe wallet: 0x0856830115f8aee61b6b7e496778a48f1f7776f9\n",
      "safe origin tx: [{'blockNumber': '14551138', 'timeStamp': '1649502348', 'hash': '0xeefce54cb65008fa67be16d7777b101eec6395c1820cda8a43429dd9d18be7e6', 'from': '0xa6b71e26c5e0845f74c812102ca7114b6a896ab2', 'to': '', 'value': '0', 'contractAddress': '0x0856830115f8aee61b6b7e496778a48f1f7776f9', 'input': '', 'type': 'create', 'gas': '504205', 'gasUsed': '56609', 'traceId': '0', 'isError': '0', 'errCode': ''}]\n",
      "\n",
      "\n",
      "safe wallet: 0x677dd1b9554439cbe2fe6f05d3c503fda316ae87\n",
      "safe origin tx: [{'blockNumber': '14551138', 'timeStamp': '1649502348', 'hash': '0x5aeaddb7f7ad3d4b2e522418cc58a038d9825eafc12cf79d249baa865a6325b9', 'from': '0xa6b71e26c5e0845f74c812102ca7114b6a896ab2', 'to': '', 'value': '0', 'contractAddress': '0x677dd1b9554439cbe2fe6f05d3c503fda316ae87', 'input': '', 'type': 'create', 'gas': '504205', 'gasUsed': '56609', 'traceId': '0', 'isError': '0', 'errCode': ''}]\n",
      "\n",
      "\n",
      "safe wallet: 0xb692edbe6b8abd3547be1b8a3e7e62082a86adac\n",
      "safe origin tx: [{'blockNumber': '14551207', 'timeStamp': '1649503229', 'hash': '0xa4b9792be347d4265137a82a203a86f49064efb5b3f2f02b58a0d2bf3a0f2eda', 'from': '0xa6b71e26c5e0845f74c812102ca7114b6a896ab2', 'to': '', 'value': '0', 'contractAddress': '0xb692edbe6b8abd3547be1b8a3e7e62082a86adac', 'input': '', 'type': 'create', 'gas': '504205', 'gasUsed': '56609', 'traceId': '0', 'isError': '0', 'errCode': ''}]\n",
      "\n",
      "\n",
      "safe wallet: 0x9dba698402b2b01315954452a0a763d1bdad31ea\n",
      "safe origin tx: [{'blockNumber': '14551193', 'timeStamp': '1649503111', 'hash': '0x8a46dc915ebef749f66b15e0025a5dd02c3b93c1824039304031a1a46b5f386a', 'from': '0xa6b71e26c5e0845f74c812102ca7114b6a896ab2', 'to': '', 'value': '0', 'contractAddress': '0x9dba698402b2b01315954452a0a763d1bdad31ea', 'input': '', 'type': 'create', 'gas': '504205', 'gasUsed': '56609', 'traceId': '0', 'isError': '0', 'errCode': ''}]\n",
      "\n",
      "\n",
      "safe wallet: 0xd497ee5bbcb2133fb06252897fe20c8042ec7342\n",
      "safe origin tx: [{'blockNumber': '14538723', 'timeStamp': '1649334426', 'hash': '0xac3c3be361dc2aba59b2116f9f82b6da6ba529aad70c866e5606cfa08dddf6f4', 'from': '0xa6b71e26c5e0845f74c812102ca7114b6a896ab2', 'to': '', 'value': '0', 'contractAddress': '0xd497ee5bbcb2133fb06252897fe20c8042ec7342', 'input': '', 'type': 'create', 'gas': '504217', 'gasUsed': '56609', 'traceId': '0', 'isError': '0', 'errCode': ''}]\n",
      "\n",
      "\n",
      "safe wallet: 0x57bccfd45e365a198dec868e8c22871c852e45a2\n",
      "safe origin tx: [{'blockNumber': '14538723', 'timeStamp': '1649334426', 'hash': '0x644c1b7d993997ef8e1d7be94885f5969bfbb81af45e096c5c8f55dfab30e556', 'from': '0xa6b71e26c5e0845f74c812102ca7114b6a896ab2', 'to': '', 'value': '0', 'contractAddress': '0x57bccfd45e365a198dec868e8c22871c852e45a2', 'input': '', 'type': 'create', 'gas': '504205', 'gasUsed': '56609', 'traceId': '0', 'isError': '0', 'errCode': ''}]\n",
      "\n",
      "\n",
      "safe wallet: 0xef8a7ad4b7371b2560b57f1fe8ead26ffe4b7773\n",
      "safe origin tx: [{'blockNumber': '14538723', 'timeStamp': '1649334426', 'hash': '0x3fbfd60bc14533b6c2b4712cf6bdc265c8ec799d46fbe49e91292c56920cd483', 'from': '0xa6b71e26c5e0845f74c812102ca7114b6a896ab2', 'to': '', 'value': '0', 'contractAddress': '0xef8a7ad4b7371b2560b57f1fe8ead26ffe4b7773', 'input': '', 'type': 'create', 'gas': '504205', 'gasUsed': '56609', 'traceId': '0', 'isError': '0', 'errCode': ''}]\n",
      "\n",
      "\n",
      "safe wallet: 0x2a59096c3bde55e37f54ce0416d0e5ec19040eb2\n",
      "safe origin tx: [{'blockNumber': '14551194', 'timeStamp': '1649503119', 'hash': '0x02c0ca48040b8c5935cfa2d2e60615b8ef61afa6934cf1a4610e8a5788d7fbcc', 'from': '0xa6b71e26c5e0845f74c812102ca7114b6a896ab2', 'to': '', 'value': '0', 'contractAddress': '0x2a59096c3bde55e37f54ce0416d0e5ec19040eb2', 'input': '', 'type': 'create', 'gas': '504205', 'gasUsed': '56609', 'traceId': '0', 'isError': '0', 'errCode': ''}]\n",
      "\n",
      "\n",
      "safe wallet: 0xa27627f074fb557e7c107e4bf943166d34186294\n",
      "safe origin tx: [{'blockNumber': '14551193', 'timeStamp': '1649503111', 'hash': '0x7fd19d98a7421b90d286257e08fd2158b9c590948774c8c7234cc080cc21b0a9', 'from': '0xa6b71e26c5e0845f74c812102ca7114b6a896ab2', 'to': '', 'value': '0', 'contractAddress': '0xa27627f074fb557e7c107e4bf943166d34186294', 'input': '', 'type': 'create', 'gas': '504205', 'gasUsed': '56609', 'traceId': '0', 'isError': '0', 'errCode': ''}]\n",
      "\n",
      "\n",
      "safe wallet: 0xe3c663ec0c975922c82badf01f1b8b10bd37333d\n",
      "safe origin tx: [{'blockNumber': '14551198', 'timeStamp': '1649503161', 'hash': '0xd0168fbe72a49659c0522041819e9308860e992429854ea66f81ea584d8b98d8', 'from': '0xa6b71e26c5e0845f74c812102ca7114b6a896ab2', 'to': '', 'value': '0', 'contractAddress': '0xe3c663ec0c975922c82badf01f1b8b10bd37333d', 'input': '', 'type': 'create', 'gas': '504205', 'gasUsed': '56609', 'traceId': '0', 'isError': '0', 'errCode': ''}]\n",
      "\n",
      "\n",
      "safe wallet: 0x5d7fe12ad924d027cd404273a13acfd571bccc0e\n",
      "safe origin tx: [{'blockNumber': '14538723', 'timeStamp': '1649334426', 'hash': '0xfdb159088637fde8743acc5a3d3fe45a8ac91e7902579f7020fe853a894b1844', 'from': '0xa6b71e26c5e0845f74c812102ca7114b6a896ab2', 'to': '', 'value': '0', 'contractAddress': '0x5d7fe12ad924d027cd404273a13acfd571bccc0e', 'input': '', 'type': 'create', 'gas': '504205', 'gasUsed': '56609', 'traceId': '0', 'isError': '0', 'errCode': ''}]\n",
      "\n",
      "\n",
      "safe wallet: 0x2d3c161b7fc1a5eaf785d9389a4494091179c035\n",
      "safe origin tx: [{'blockNumber': '14551194', 'timeStamp': '1649503119', 'hash': '0xff964b69bffb4c36de1a67e188f0bf58a507f6c5794efe7bbc9df3632dcb5a6e', 'from': '0xa6b71e26c5e0845f74c812102ca7114b6a896ab2', 'to': '', 'value': '0', 'contractAddress': '0x2d3c161b7fc1a5eaf785d9389a4494091179c035', 'input': '', 'type': 'create', 'gas': '504205', 'gasUsed': '56609', 'traceId': '0', 'isError': '0', 'errCode': ''}]\n",
      "\n",
      "\n",
      "safe wallet: 0x5f13d26cee54cb84841328b399aa0b32e3716110\n",
      "safe origin tx: [{'blockNumber': '14550539', 'timeStamp': '1649494109', 'hash': '0xe61e99c61eeb7b0bf5d0d34180e068d0e1e0e797d2f2c340405a90f0e19cd974', 'from': '0xa6b71e26c5e0845f74c812102ca7114b6a896ab2', 'to': '', 'value': '0', 'contractAddress': '0x5f13d26cee54cb84841328b399aa0b32e3716110', 'input': '', 'type': 'create', 'gas': '504205', 'gasUsed': '56609', 'traceId': '0', 'isError': '0', 'errCode': ''}]\n",
      "\n",
      "\n",
      "safe wallet: 0x97232c8cc390ceeffa51753abe1c8c9e3c073b78\n",
      "safe origin tx: [{'blockNumber': '14551103', 'timeStamp': '1649501798', 'hash': '0xb5b5f38101c88f3a40bc82b0db08aff6570dd3a93177761c13aae0ee3f76f662', 'from': '0xa6b71e26c5e0845f74c812102ca7114b6a896ab2', 'to': '', 'value': '0', 'contractAddress': '0x97232c8cc390ceeffa51753abe1c8c9e3c073b78', 'input': '', 'type': 'create', 'gas': '504205', 'gasUsed': '56609', 'traceId': '0', 'isError': '0', 'errCode': ''}]\n",
      "\n",
      "\n",
      "safe wallet: 0xd8c748611f2ee9a2927331873c7b423f818ce3a0\n",
      "safe origin tx: [{'blockNumber': '14551194', 'timeStamp': '1649503119', 'hash': '0x521ea82b74bafadbf5077a5a6124fc0de2274ae45afa77f48ffcbbf27b58a78f', 'from': '0xa6b71e26c5e0845f74c812102ca7114b6a896ab2', 'to': '', 'value': '0', 'contractAddress': '0xd8c748611f2ee9a2927331873c7b423f818ce3a0', 'input': '', 'type': 'create', 'gas': '504205', 'gasUsed': '56609', 'traceId': '0', 'isError': '0', 'errCode': ''}]\n",
      "\n",
      "\n"
     ]
    }
   ],
   "source": [
    "wallet_list = list(map(lambda i: list(i.keys())[0] ,filter_by_address))\n",
    "\n",
    "main_safe_wallet = \"0x9ca9b0d33d168cc2ad02e5fd264431cc0e9e7d20\"\n",
    "if main_safe_wallet in wallet_list:\n",
    "    print(f'main safe wallet: {main_safe_wallet}')\n",
    "\n",
    "print('\\n')\n",
    "\n",
    "# wallet list except main_safe_wallet\n",
    "wallet_filter_list = list(filter(lambda i: i != main_safe_wallet, wallet_list))\n",
    "\n",
    "print('\\n'.join(wallet_filter_list))\n",
    "\n",
    "print('\\n')\n",
    "\n",
    "docs = get_wallets_tx_from_db(wallet_filter_list)\n",
    "for doc in docs:\n",
    "    for key, value in doc.items():\n",
    "            if key != '_id':\n",
    "                txs = doc[key]\n",
    "                print(f\"safe wallet: {key}\")\n",
    "                print(f\"safe origin tx: {txs}\")\n",
    "                print('\\n')"
   ]
  },
  {
   "cell_type": "code",
   "execution_count": null,
   "id": "facc5b0c-9e21-489a-afb4-036de6575a1d",
   "metadata": {},
   "outputs": [],
   "source": []
  }
 ],
 "metadata": {
  "kernelspec": {
   "display_name": "Python 3 (ipykernel)",
   "language": "python",
   "name": "python3"
  },
  "language_info": {
   "codemirror_mode": {
    "name": "ipython",
    "version": 3
   },
   "file_extension": ".py",
   "mimetype": "text/x-python",
   "name": "python",
   "nbconvert_exporter": "python",
   "pygments_lexer": "ipython3",
   "version": "3.8.5"
  }
 },
 "nbformat": 4,
 "nbformat_minor": 5
}
